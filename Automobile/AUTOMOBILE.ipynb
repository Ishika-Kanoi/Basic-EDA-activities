{
 "cells": [
  {
   "cell_type": "markdown",
   "id": "a2c24388",
   "metadata": {},
   "source": [
    "# AUTOMOBILE DATASET\n",
    "This dataset has been taken from kaggle to infer meaningful insights.\n"
   ]
  },
  {
   "cell_type": "code",
   "execution_count": 1,
   "id": "c1559b63",
   "metadata": {},
   "outputs": [],
   "source": [
    "#importing the necessary libraries\n",
    "import pandas as pd\n",
    "import numpy as np\n",
    "import matplotlib.pyplot as plt"
   ]
  },
  {
   "cell_type": "code",
   "execution_count": 2,
   "id": "0903b83e",
   "metadata": {},
   "outputs": [],
   "source": [
    "#reading the csv file into dataframe\n",
    "df = pd.read_csv(\"Automobile.csv\")"
   ]
  },
  {
   "cell_type": "code",
   "execution_count": 3,
   "id": "66eced4b",
   "metadata": {},
   "outputs": [
    {
     "name": "stdout",
     "output_type": "stream",
     "text": [
      "<class 'pandas.core.frame.DataFrame'>\n",
      "RangeIndex: 205 entries, 0 to 204\n",
      "Data columns (total 26 columns):\n",
      " #   Column             Non-Null Count  Dtype  \n",
      "---  ------             --------------  -----  \n",
      " 0   symboling          205 non-null    int64  \n",
      " 1   normalized_losses  164 non-null    float64\n",
      " 2   make               205 non-null    object \n",
      " 3   fuel_type          205 non-null    object \n",
      " 4   aspiration         205 non-null    object \n",
      " 5   num_doors          203 non-null    object \n",
      " 6   body_style         205 non-null    object \n",
      " 7   drive_wheels       205 non-null    object \n",
      " 8   engine_location    205 non-null    object \n",
      " 9   wheel_base         205 non-null    float64\n",
      " 10  length             205 non-null    float64\n",
      " 11  width              205 non-null    float64\n",
      " 12  height             205 non-null    float64\n",
      " 13  curb_weight        205 non-null    int64  \n",
      " 14  engine_type        205 non-null    object \n",
      " 15  num_cylinders      205 non-null    object \n",
      " 16  engine_size        205 non-null    int64  \n",
      " 17  fuel_system        205 non-null    object \n",
      " 18  bore               201 non-null    float64\n",
      " 19  stroke             201 non-null    float64\n",
      " 20  compression_ratio  205 non-null    float64\n",
      " 21  horsepower         203 non-null    float64\n",
      " 22  peak_rpm           203 non-null    float64\n",
      " 23  city_mpg           205 non-null    int64  \n",
      " 24  highway_mpg        205 non-null    int64  \n",
      " 25  price              201 non-null    float64\n",
      "dtypes: float64(11), int64(5), object(10)\n",
      "memory usage: 41.8+ KB\n"
     ]
    }
   ],
   "source": [
    "df.info()"
   ]
  },
  {
   "cell_type": "markdown",
   "id": "3d39e49e",
   "metadata": {},
   "source": [
    "## Fuel Type"
   ]
  },
  {
   "cell_type": "code",
   "execution_count": 4,
   "id": "64c8bb6e",
   "metadata": {},
   "outputs": [
    {
     "data": {
      "image/png": "[encoded data removed]",
      "text/plain": [
       "<Figure size 432x288 with 1 Axes>"
      ]
     },
     "metadata": {},
     "output_type": "display_data"
    }
   ],
   "source": [
    "fuel_details = df['fuel_type'].value_counts()\n",
    "sizes = fuel_details.values\n",
    "labels1 = fuel_details.index\n",
    "\n",
    "plt.pie(sizes,labels = labels1 , autopct= '%1.1f%%')\n",
    "plt.show()"
   ]
  },
  {
   "cell_type": "markdown",
   "id": "ee37ca96",
   "metadata": {},
   "source": [
    "We can infer that almost 90.2% cars run on gas.\n",
    "#### Gas is the Popular Fuel Type"
   ]
  },
  {
   "cell_type": "markdown",
   "id": "3685c67d",
   "metadata": {},
   "source": [
    "## Body Style"
   ]
  },
  {
   "cell_type": "code",
   "execution_count": 5,
   "id": "6ca70d40",
   "metadata": {},
   "outputs": [
    {
     "data": {
      "text/plain": [
       "sedan          96\n",
       "hatchback      70\n",
       "wagon          25\n",
       "hardtop         8\n",
       "convertible     6\n",
       "Name: body_style, dtype: int64"
      ]
     },
     "execution_count": 5,
     "metadata": {},
     "output_type": "execute_result"
    }
   ],
   "source": [
    "df['body_style'].value_counts()"
   ]
  },
  {
   "cell_type": "code",
   "execution_count": 6,
   "id": "e4ddcbb5",
   "metadata": {},
   "outputs": [
    {
     "data": {
      "image/png": "[encoded data removed]",
      "text/plain": [
       "<Figure size 432x288 with 1 Axes>"
      ]
     },
     "metadata": {},
     "output_type": "display_data"
    }
   ],
   "source": [
    "body_style_data = df['body_style'].value_counts()\n",
    "sizes = body_style_data.values\n",
    "labels2 = body_style_data.index\n",
    "\n",
    "plt.pie(sizes,labels=labels2,autopct='%1.1f%%')\n",
    "plt.show()"
   ]
  },
  {
   "cell_type": "markdown",
   "id": "b34bd609",
   "metadata": {},
   "source": [
    "#### SEDAN is the most popular body type for the cars in this dataset"
   ]
  },
  {
   "cell_type": "markdown",
   "id": "3a37c21e",
   "metadata": {},
   "source": [
    "## PRICE ANALYSIS\n",
    "#### Data Preparation"
   ]
  },
  {
   "cell_type": "code",
   "execution_count": 7,
   "id": "088453ef",
   "metadata": {},
   "outputs": [
    {
     "data": {
      "text/plain": [
       "symboling            False\n",
       "normalized_losses     True\n",
       "make                 False\n",
       "fuel_type            False\n",
       "aspiration           False\n",
       "num_doors             True\n",
       "body_style           False\n",
       "drive_wheels         False\n",
       "engine_location      False\n",
       "wheel_base           False\n",
       "length               False\n",
       "width                False\n",
       "height               False\n",
       "curb_weight          False\n",
       "engine_type          False\n",
       "num_cylinders        False\n",
       "engine_size          False\n",
       "fuel_system          False\n",
       "bore                  True\n",
       "stroke                True\n",
       "compression_ratio    False\n",
       "horsepower            True\n",
       "peak_rpm              True\n",
       "city_mpg             False\n",
       "highway_mpg          False\n",
       "price                 True\n",
       "dtype: bool"
      ]
     },
     "execution_count": 7,
     "metadata": {},
     "output_type": "execute_result"
    }
   ],
   "source": [
    "#checking for missing values in the dataset\n",
    "df.isnull().any(axis = 0)"
   ]
  },
  {
   "cell_type": "markdown",
   "id": "8af7f08f",
   "metadata": {},
   "source": [
    "We have null values in columns:\n",
    "normalized_losses, m_doors , bore ,roke , peak_rpm , price\n",
    "\n",
    "Let us handle the missing values in the price column"
   ]
  },
  {
   "cell_type": "code",
   "execution_count": 8,
   "id": "906e3f19",
   "metadata": {},
   "outputs": [
    {
     "data": {
      "text/plain": [
       "dtype('float32')"
      ]
     },
     "execution_count": 8,
     "metadata": {},
     "output_type": "execute_result"
    }
   ],
   "source": [
    "#changing the datatype of price to float 32\n",
    "df['price'] = df['price'].astype('float32')\n",
    "df['price'].dtype"
   ]
  },
  {
   "cell_type": "markdown",
   "id": "e6e7baf4",
   "metadata": {},
   "source": [
    "Let us check total null values in price column. \n",
    "If we have less than 10 null values in 204 entires : let us replace it with the average value of the cars.\n",
    "Strategy = if value<10 ,replace."
   ]
  },
  {
   "cell_type": "code",
   "execution_count": 9,
   "id": "89e062ea",
   "metadata": {},
   "outputs": [
    {
     "data": {
      "text/plain": [
       "4"
      ]
     },
     "execution_count": 9,
     "metadata": {},
     "output_type": "execute_result"
    }
   ],
   "source": [
    "df['price'].isnull().sum()"
   ]
  },
  {
   "cell_type": "code",
   "execution_count": 10,
   "id": "8183615d",
   "metadata": {},
   "outputs": [],
   "source": [
    "df['price'] = df['price'].fillna(df['price'].mean())"
   ]
  },
  {
   "cell_type": "code",
   "execution_count": 11,
   "id": "340f5908",
   "metadata": {},
   "outputs": [
    {
     "data": {
      "text/plain": [
       "0"
      ]
     },
     "execution_count": 11,
     "metadata": {},
     "output_type": "execute_result"
    }
   ],
   "source": [
    "#checking if all null values are replaced \n",
    "df['price'].isnull().sum()"
   ]
  },
  {
   "cell_type": "markdown",
   "id": "db67b526",
   "metadata": {},
   "source": [
    "### Finding Insights from Price Column"
   ]
  },
  {
   "cell_type": "markdown",
   "id": "13248956",
   "metadata": {},
   "source": [
    "Let us analyse the Price column to obtain insights, such as:\n",
    "1. the minimum price\n",
    "2. maximum price\n",
    "3. average price\n",
    "4. standard deviation"
   ]
  },
  {
   "cell_type": "markdown",
   "id": "499646f9",
   "metadata": {},
   "source": [
    "We can obtain the details with pandas alone but it's best practise to use numpy to handle operations on numerical data.\n",
    "Let's see how"
   ]
  },
  {
   "cell_type": "code",
   "execution_count": 12,
   "id": "26e8f5d4",
   "metadata": {},
   "outputs": [],
   "source": [
    "#let's convert the price data to ndarray\n",
    "px = np.array(df['price'].values)"
   ]
  },
  {
   "cell_type": "code",
   "execution_count": 13,
   "id": "65073d1e",
   "metadata": {},
   "outputs": [
    {
     "data": {
      "text/plain": [
       "numpy.ndarray"
      ]
     },
     "execution_count": 13,
     "metadata": {},
     "output_type": "execute_result"
    }
   ],
   "source": [
    "type(px)"
   ]
  },
  {
   "cell_type": "code",
   "execution_count": 14,
   "id": "c96ba0b2",
   "metadata": {},
   "outputs": [
    {
     "name": "stdout",
     "output_type": "stream",
     "text": [
      "5118.0 is the minimum price of a car in the dataset\n"
     ]
    }
   ],
   "source": [
    "#Minimum price\n",
    "print(str(px.min()) + \" is the minimum price of a car in the dataset\")"
   ]
  },
  {
   "cell_type": "code",
   "execution_count": 15,
   "id": "ba31b091",
   "metadata": {},
   "outputs": [
    {
     "name": "stdout",
     "output_type": "stream",
     "text": [
      "45400.0 is the maximum price of a car in the dataset\n"
     ]
    }
   ],
   "source": [
    "#Maximum Price\n",
    "print(str(px.max())+ \" is the maximum price of a car in the dataset\")"
   ]
  },
  {
   "cell_type": "code",
   "execution_count": 16,
   "id": "1552dae9",
   "metadata": {},
   "outputs": [
    {
     "name": "stdout",
     "output_type": "stream",
     "text": [
      "1320712.89 is the average price of the cars in this dataset\n"
     ]
    }
   ],
   "source": [
    "#Average Price\n",
    "print(str(round(px.mean()*100,2))+ \" is the average price of the cars in this dataset\")"
   ]
  },
  {
   "cell_type": "code",
   "execution_count": 17,
   "id": "f3f707b8",
   "metadata": {},
   "outputs": [
    {
     "name": "stdout",
     "output_type": "stream",
     "text": [
      "784955.27 is standard deviation\n"
     ]
    }
   ],
   "source": [
    "#Standard Deviation\n",
    "standard_deviation = round(px.std()*100,2)\n",
    "print(str(round(px.std()*100,2)) + \" is standard deviation\")"
   ]
  },
  {
   "cell_type": "markdown",
   "id": "812b3934",
   "metadata": {},
   "source": [
    "#### Bar Chart for Mean and Standard Deviation in Prices"
   ]
  },
  {
   "cell_type": "code",
   "execution_count": 18,
   "id": "0e371a22",
   "metadata": {},
   "outputs": [
    {
     "data": {
      "text/plain": [
       "<AxesSubplot:>"
      ]
     },
     "execution_count": 18,
     "metadata": {},
     "output_type": "execute_result"
    },
    {
     "data": {
      "image/png": "[encoded data removed]",
      "text/plain": [
       "<Figure size 432x288 with 1 Axes>"
      ]
     },
     "metadata": {
      "needs_background": "light"
     },
     "output_type": "display_data"
    }
   ],
   "source": [
    "diagram = df[\"price\"].agg([np.mean, np.std])\n",
    "diagram.plot(kind='bar')"
   ]
  },
  {
   "cell_type": "markdown",
   "id": "5b97bee2",
   "metadata": {},
   "source": [
    "### Body Style vs Price"
   ]
  },
  {
   "cell_type": "code",
   "execution_count": 19,
   "id": "8e6eb191",
   "metadata": {},
   "outputs": [],
   "source": [
    "bdt_price_df = df.groupby('body_style')['price']"
   ]
  },
  {
   "cell_type": "code",
   "execution_count": 20,
   "id": "17dfc9b7",
   "metadata": {},
   "outputs": [
    {
     "data": {
      "text/plain": [
       "pandas.core.groupby.generic.SeriesGroupBy"
      ]
     },
     "execution_count": 20,
     "metadata": {},
     "output_type": "execute_result"
    }
   ],
   "source": [
    "type(bdt_price_df)"
   ]
  },
  {
   "cell_type": "code",
   "execution_count": 21,
   "id": "4611bafd",
   "metadata": {},
   "outputs": [
    {
     "data": {
      "text/plain": [
       "<AxesSubplot:xlabel='body_style', ylabel='price'>"
      ]
     },
     "execution_count": 21,
     "metadata": {},
     "output_type": "execute_result"
    },
    {
     "data": {
      "image/png": "[encoded data removed]",
      "text/plain": [
       "<Figure size 432x288 with 1 Axes>"
      ]
     },
     "metadata": {
      "needs_background": "light"
     },
     "output_type": "display_data"
    }
   ],
   "source": [
    "import seaborn as sns\n",
    "sns.boxplot(x = df['body_style'], y= df['price'])"
   ]
  },
  {
   "cell_type": "markdown",
   "id": "2ff4c571",
   "metadata": {},
   "source": [
    "#### Hardtop and Convertible Cars are Expensive"
   ]
  },
  {
   "cell_type": "markdown",
   "id": "0bb8db6a",
   "metadata": {},
   "source": [
    "### Fuel Type vs Prices"
   ]
  },
  {
   "cell_type": "code",
   "execution_count": 22,
   "id": "28cd4868",
   "metadata": {},
   "outputs": [
    {
     "data": {
      "text/plain": [
       "<AxesSubplot:xlabel='fuel_type', ylabel='price'>"
      ]
     },
     "execution_count": 22,
     "metadata": {},
     "output_type": "execute_result"
    },
    {
     "data": {
      "image/png": "[encoded data removed]",
      "text/plain": [
       "<Figure size 432x288 with 1 Axes>"
      ]
     },
     "metadata": {
      "needs_background": "light"
     },
     "output_type": "display_data"
    }
   ],
   "source": [
    "ft_prices = df.groupby('fuel_type')['price']\n",
    "sns.boxplot(x=df['fuel_type'], y = df['price'])"
   ]
  },
  {
   "cell_type": "markdown",
   "id": "3b18d740",
   "metadata": {},
   "source": [
    "#### Diesel cars are expensive"
   ]
  },
  {
   "cell_type": "markdown",
   "id": "5616f5c2",
   "metadata": {},
   "source": [
    "## TOP 10 Car Makers : Pie Chart"
   ]
  },
  {
   "cell_type": "code",
   "execution_count": 23,
   "id": "c39f2ece",
   "metadata": {},
   "outputs": [
    {
     "data": {
      "text/plain": [
       "0"
      ]
     },
     "execution_count": 23,
     "metadata": {},
     "output_type": "execute_result"
    }
   ],
   "source": [
    "#Let us plot a PIE CHART for top 10 Car Makers\n",
    "df['make'].isnull().sum()"
   ]
  },
  {
   "cell_type": "code",
   "execution_count": 24,
   "id": "a2d8b494",
   "metadata": {},
   "outputs": [
    {
     "data": {
      "text/plain": [
       "toyota           32\n",
       "nissan           18\n",
       "mazda            17\n",
       "mitsubishi       13\n",
       "honda            13\n",
       "subaru           12\n",
       "volkswagen       12\n",
       "volvo            11\n",
       "peugot           11\n",
       "dodge             9\n",
       "mercedes-benz     8\n",
       "bmw               8\n",
       "audi              7\n",
       "plymouth          7\n",
       "saab              6\n",
       "porsche           5\n",
       "isuzu             4\n",
       "jaguar            3\n",
       "chevrolet         3\n",
       "alfa-romero       3\n",
       "renault           2\n",
       "mercury           1\n",
       "Name: make, dtype: int64"
      ]
     },
     "execution_count": 24,
     "metadata": {},
     "output_type": "execute_result"
    }
   ],
   "source": [
    "df['make'].value_counts()"
   ]
  },
  {
   "cell_type": "code",
   "execution_count": 25,
   "id": "dc4d8ada",
   "metadata": {},
   "outputs": [
    {
     "data": {
      "image/png": "[encoded data removed]",
      "text/plain": [
       "<Figure size 432x288 with 1 Axes>"
      ]
     },
     "metadata": {},
     "output_type": "display_data"
    }
   ],
   "source": [
    "#defining values for pie chart\n",
    "top_10_carmakers = df['make'].value_counts()[0:11]\n",
    "top_10_carmakers\n",
    "top_10label = top_10_carmakers.index\n",
    "top_10sizes = top_10_carmakers.values\n",
    "\n",
    "plt.pie(top_10sizes, labels=top_10label, autopct= '%1.1f%%')\n",
    "plt.show()"
   ]
  },
  {
   "cell_type": "markdown",
   "id": "d7827add",
   "metadata": {},
   "source": [
    "#### This chart denotes that Toyota , Nissan , Mazda , Honda and Mitsubishi are the top 10 car makers for the present dataset"
   ]
  }
 ],
 "metadata": {
  "kernelspec": {
   "display_name": "Python 3",
   "language": "python",
   "name": "python3"
  },
  "language_info": {
   "codemirror_mode": {
    "name": "ipython",
    "version": 3
   },
   "file_extension": ".py",
   "mimetype": "text/x-python",
   "name": "python",
   "nbconvert_exporter": "python",
   "pygments_lexer": "ipython3",
   "version": "3.8.8"
  }
 },
 "nbformat": 4,
 "nbformat_minor": 5
}
