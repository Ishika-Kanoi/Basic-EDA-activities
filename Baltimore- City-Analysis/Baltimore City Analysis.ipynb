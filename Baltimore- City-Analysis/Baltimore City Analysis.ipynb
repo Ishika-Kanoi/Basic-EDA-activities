{
 "cells": [
  {
   "cell_type": "markdown",
   "id": "323d7ced",
   "metadata": {},
   "source": [
    "## BALTIMORE CITY ANALYSIS\n",
    "\n",
    "We have the Data about a city called Baltimore. Let us analyse and answer some formulated questions.\n",
    "1. Remove the dollar signs in the AnnualSalary field and assign it as a float\n",
    "2. Group the data on JobTitle and AnnualSalary, and aggregate with sum, mean, etc.\n",
    "3. How many employees are there for each JobRoles and Graph it\n",
    "4. List All the Agency ID and Agency Name\n",
    "5. Find all the missing Gross data in the dataset"
   ]
  },
  {
   "cell_type": "code",
   "execution_count": 13,
   "id": "89b5f9f2",
   "metadata": {},
   "outputs": [],
   "source": [
    "#importing required libraries\n",
    "import pandas as  pd\n",
    "import numpy as np\n",
    "import matplotlib.pyplot as plt"
   ]
  },
  {
   "cell_type": "code",
   "execution_count": 2,
   "id": "57fb0965",
   "metadata": {},
   "outputs": [],
   "source": [
    "df = pd.read_csv('Baltimore.csv')"
   ]
  },
  {
   "cell_type": "code",
   "execution_count": 14,
   "id": "fd82c3b1",
   "metadata": {},
   "outputs": [
    {
     "data": {
      "text/html": [
       "<div>\n",
       "<style scoped>\n",
       "    .dataframe tbody tr th:only-of-type {\n",
       "        vertical-align: middle;\n",
       "    }\n",
       "\n",
       "    .dataframe tbody tr th {\n",
       "        vertical-align: top;\n",
       "    }\n",
       "\n",
       "    .dataframe thead th {\n",
       "        text-align: right;\n",
       "    }\n",
       "</style>\n",
       "<table border=\"1\" class=\"dataframe\">\n",
       "  <thead>\n",
       "    <tr style=\"text-align: right;\">\n",
       "      <th></th>\n",
       "      <th>Name</th>\n",
       "      <th>JobTitle</th>\n",
       "      <th>AgencyID</th>\n",
       "      <th>Agency</th>\n",
       "      <th>HireDate</th>\n",
       "      <th>AnnualSalary</th>\n",
       "      <th>GrossPay</th>\n",
       "    </tr>\n",
       "  </thead>\n",
       "  <tbody>\n",
       "    <tr>\n",
       "      <th>0</th>\n",
       "      <td>Aaron,Keontae E</td>\n",
       "      <td>AIDE BLUE CHIP</td>\n",
       "      <td>W02200</td>\n",
       "      <td>Youth Summer</td>\n",
       "      <td>06/10/2013</td>\n",
       "      <td>11310.0</td>\n",
       "      <td>873.63</td>\n",
       "    </tr>\n",
       "    <tr>\n",
       "      <th>1</th>\n",
       "      <td>Aaron,Patricia G</td>\n",
       "      <td>Facilities/Office Services II</td>\n",
       "      <td>A03031</td>\n",
       "      <td>OED-Employment Dev</td>\n",
       "      <td>10/24/1979</td>\n",
       "      <td>53428.0</td>\n",
       "      <td>52868.38</td>\n",
       "    </tr>\n",
       "    <tr>\n",
       "      <th>2</th>\n",
       "      <td>Aaron,Petra L</td>\n",
       "      <td>ASSISTANT STATE'S ATTORNEY</td>\n",
       "      <td>A29005</td>\n",
       "      <td>States Attorneys Office</td>\n",
       "      <td>09/25/2006</td>\n",
       "      <td>68300.0</td>\n",
       "      <td>67439.19</td>\n",
       "    </tr>\n",
       "    <tr>\n",
       "      <th>3</th>\n",
       "      <td>Abaineh,Yohannes T</td>\n",
       "      <td>EPIDEMIOLOGIST</td>\n",
       "      <td>A65026</td>\n",
       "      <td>HLTH-Health Department</td>\n",
       "      <td>07/23/2009</td>\n",
       "      <td>62000.0</td>\n",
       "      <td>58654.74</td>\n",
       "    </tr>\n",
       "    <tr>\n",
       "      <th>4</th>\n",
       "      <td>Abbene,Anthony M</td>\n",
       "      <td>POLICE OFFICER TRAINEE</td>\n",
       "      <td>A99416</td>\n",
       "      <td>Police Department</td>\n",
       "      <td>07/24/2013</td>\n",
       "      <td>43999.0</td>\n",
       "      <td>39686.95</td>\n",
       "    </tr>\n",
       "  </tbody>\n",
       "</table>\n",
       "</div>"
      ],
      "text/plain": [
       "                 Name                       JobTitle AgencyID  \\\n",
       "0     Aaron,Keontae E                 AIDE BLUE CHIP   W02200   \n",
       "1    Aaron,Patricia G  Facilities/Office Services II   A03031   \n",
       "2       Aaron,Petra L     ASSISTANT STATE'S ATTORNEY   A29005   \n",
       "3  Abaineh,Yohannes T                 EPIDEMIOLOGIST   A65026   \n",
       "4    Abbene,Anthony M         POLICE OFFICER TRAINEE   A99416   \n",
       "\n",
       "                     Agency    HireDate  AnnualSalary  GrossPay  \n",
       "0            Youth Summer    06/10/2013       11310.0    873.63  \n",
       "1       OED-Employment Dev   10/24/1979       53428.0  52868.38  \n",
       "2  States Attorneys Office   09/25/2006       68300.0  67439.19  \n",
       "3   HLTH-Health Department   07/23/2009       62000.0  58654.74  \n",
       "4        Police Department   07/24/2013       43999.0  39686.95  "
      ]
     },
     "execution_count": 14,
     "metadata": {},
     "output_type": "execute_result"
    }
   ],
   "source": [
    "#acquiring information from dataset\n",
    "\n",
    "df.head()"
   ]
  },
  {
   "cell_type": "code",
   "execution_count": 5,
   "id": "3cfca5a1",
   "metadata": {},
   "outputs": [
    {
     "data": {
      "text/plain": [
       " Name           False\n",
       "JobTitle        False\n",
       "AgencyID        False\n",
       "Agency          False\n",
       "HireDate         True\n",
       "AnnualSalary    False\n",
       "GrossPay         True\n",
       "dtype: bool"
      ]
     },
     "execution_count": 5,
     "metadata": {},
     "output_type": "execute_result"
    }
   ],
   "source": [
    "df.isnull().any(axis=0)"
   ]
  },
  {
   "cell_type": "markdown",
   "id": "6074227f",
   "metadata": {},
   "source": [
    "We have two columns which has null values."
   ]
  },
  {
   "cell_type": "markdown",
   "id": "e3eb5b7b",
   "metadata": {},
   "source": [
    "### 1.Remove the dollar signs in the AnnualSalary field and assign it as a float"
   ]
  },
  {
   "cell_type": "code",
   "execution_count": 6,
   "id": "359abae4",
   "metadata": {},
   "outputs": [
    {
     "data": {
      "text/plain": [
       "0        $11310.00\n",
       "1         53428.00\n",
       "2         68300.00\n",
       "3         62000.00\n",
       "4         43999.00\n",
       "           ...    \n",
       "18976     11310.00\n",
       "18977    $11310.00\n",
       "18978     43999.00\n",
       "18979     44104.00\n",
       "18980    $53568.00\n",
       "Name: AnnualSalary, Length: 18981, dtype: object"
      ]
     },
     "execution_count": 6,
     "metadata": {},
     "output_type": "execute_result"
    }
   ],
   "source": [
    "#solving the first question.\n",
    "df['AnnualSalary']"
   ]
  },
  {
   "cell_type": "markdown",
   "id": "d130093f",
   "metadata": {},
   "source": [
    "The data in AnnualSalary column is not in a numerical format as it has \"$\" dollar sign at the begining. Let us first clean the data of this column."
   ]
  },
  {
   "cell_type": "code",
   "execution_count": 10,
   "id": "7b5ca494",
   "metadata": {},
   "outputs": [],
   "source": [
    "df[\"AnnualSalary\"] = df['AnnualSalary'].str.replace(\"$\",\"\",regex = True)\n",
    "df[\"AnnualSalary\"] = df['AnnualSalary'].astype(float)"
   ]
  },
  {
   "cell_type": "code",
   "execution_count": 12,
   "id": "73716f78",
   "metadata": {},
   "outputs": [
    {
     "data": {
      "text/plain": [
       "dtype('float64')"
      ]
     },
     "execution_count": 12,
     "metadata": {},
     "output_type": "execute_result"
    }
   ],
   "source": [
    "df[\"AnnualSalary\"].dtype"
   ]
  },
  {
   "cell_type": "markdown",
   "id": "7f8293fb",
   "metadata": {},
   "source": [
    "### 2. Group the data on JobTitle and AnnualSalary, and aggregate with sum, mean, etc."
   ]
  },
  {
   "cell_type": "code",
   "execution_count": 17,
   "id": "5b876ac2",
   "metadata": {},
   "outputs": [],
   "source": [
    "#grouping the columns and finding sum and mean\n",
    "\n",
    "grouped = df.groupby(['JobTitle','AnnualSalary'])\n",
    "aggregated = grouped.agg([np.sum,np.mean])"
   ]
  },
  {
   "cell_type": "code",
   "execution_count": 18,
   "id": "e24e0879",
   "metadata": {},
   "outputs": [
    {
     "data": {
      "text/html": [
       "<div>\n",
       "<style scoped>\n",
       "    .dataframe tbody tr th:only-of-type {\n",
       "        vertical-align: middle;\n",
       "    }\n",
       "\n",
       "    .dataframe tbody tr th {\n",
       "        vertical-align: top;\n",
       "    }\n",
       "\n",
       "    .dataframe thead tr th {\n",
       "        text-align: left;\n",
       "    }\n",
       "\n",
       "    .dataframe thead tr:last-of-type th {\n",
       "        text-align: right;\n",
       "    }\n",
       "</style>\n",
       "<table border=\"1\" class=\"dataframe\">\n",
       "  <thead>\n",
       "    <tr>\n",
       "      <th></th>\n",
       "      <th></th>\n",
       "      <th colspan=\"2\" halign=\"left\">GrossPay</th>\n",
       "    </tr>\n",
       "    <tr>\n",
       "      <th></th>\n",
       "      <th></th>\n",
       "      <th>sum</th>\n",
       "      <th>mean</th>\n",
       "    </tr>\n",
       "    <tr>\n",
       "      <th>JobTitle</th>\n",
       "      <th>AnnualSalary</th>\n",
       "      <th></th>\n",
       "      <th></th>\n",
       "    </tr>\n",
       "  </thead>\n",
       "  <tbody>\n",
       "    <tr>\n",
       "      <th rowspan=\"3\" valign=\"top\">911 LEAD OPERATOR</th>\n",
       "      <th>46010.0</th>\n",
       "      <td>66443.78</td>\n",
       "      <td>66443.780000</td>\n",
       "    </tr>\n",
       "    <tr>\n",
       "      <th>47350.0</th>\n",
       "      <td>63648.99</td>\n",
       "      <td>63648.990000</td>\n",
       "    </tr>\n",
       "    <tr>\n",
       "      <th>48690.0</th>\n",
       "      <td>179842.10</td>\n",
       "      <td>59947.366667</td>\n",
       "    </tr>\n",
       "    <tr>\n",
       "      <th rowspan=\"2\" valign=\"top\">911 OPERATOR</th>\n",
       "      <th>35606.0</th>\n",
       "      <td>231346.85</td>\n",
       "      <td>28918.356250</td>\n",
       "    </tr>\n",
       "    <tr>\n",
       "      <th>37207.0</th>\n",
       "      <td>511421.86</td>\n",
       "      <td>42618.488333</td>\n",
       "    </tr>\n",
       "    <tr>\n",
       "      <th>...</th>\n",
       "      <th>...</th>\n",
       "      <td>...</td>\n",
       "      <td>...</td>\n",
       "    </tr>\n",
       "    <tr>\n",
       "      <th>ZONING APPEALS ADVISOR BMZA</th>\n",
       "      <th>59274.0</th>\n",
       "      <td>59286.87</td>\n",
       "      <td>59286.870000</td>\n",
       "    </tr>\n",
       "    <tr>\n",
       "      <th>ZONING ENFORCEMENT OFFICER</th>\n",
       "      <th>62000.0</th>\n",
       "      <td>61667.38</td>\n",
       "      <td>61667.380000</td>\n",
       "    </tr>\n",
       "    <tr>\n",
       "      <th rowspan=\"2\" valign=\"top\">ZONING EXAMINER I</th>\n",
       "      <th>41202.0</th>\n",
       "      <td>40763.12</td>\n",
       "      <td>40763.120000</td>\n",
       "    </tr>\n",
       "    <tr>\n",
       "      <th>46146.0</th>\n",
       "      <td>46182.65</td>\n",
       "      <td>46182.650000</td>\n",
       "    </tr>\n",
       "    <tr>\n",
       "      <th>ZONING EXAMINER II</th>\n",
       "      <th>53568.0</th>\n",
       "      <td>53614.34</td>\n",
       "      <td>53614.340000</td>\n",
       "    </tr>\n",
       "  </tbody>\n",
       "</table>\n",
       "<p>3782 rows × 2 columns</p>\n",
       "</div>"
      ],
      "text/plain": [
       "                                           GrossPay              \n",
       "                                                sum          mean\n",
       "JobTitle                    AnnualSalary                         \n",
       "911 LEAD OPERATOR           46010.0        66443.78  66443.780000\n",
       "                            47350.0        63648.99  63648.990000\n",
       "                            48690.0       179842.10  59947.366667\n",
       "911 OPERATOR                35606.0       231346.85  28918.356250\n",
       "                            37207.0       511421.86  42618.488333\n",
       "...                                             ...           ...\n",
       "ZONING APPEALS ADVISOR BMZA 59274.0        59286.87  59286.870000\n",
       "ZONING ENFORCEMENT OFFICER  62000.0        61667.38  61667.380000\n",
       "ZONING EXAMINER I           41202.0        40763.12  40763.120000\n",
       "                            46146.0        46182.65  46182.650000\n",
       "ZONING EXAMINER II          53568.0        53614.34  53614.340000\n",
       "\n",
       "[3782 rows x 2 columns]"
      ]
     },
     "execution_count": 18,
     "metadata": {},
     "output_type": "execute_result"
    }
   ],
   "source": [
    "aggregated"
   ]
  },
  {
   "cell_type": "markdown",
   "id": "82792807",
   "metadata": {},
   "source": [
    "Aggregated contains aggregated sum and mean of Jobtitles with the Annual Salary."
   ]
  },
  {
   "cell_type": "markdown",
   "id": "48cec276",
   "metadata": {},
   "source": [
    "### 3. How many employees are there for each JobRoles? Graph it."
   ]
  },
  {
   "cell_type": "code",
   "execution_count": 24,
   "id": "49956579",
   "metadata": {},
   "outputs": [
    {
     "data": {
      "text/plain": [
       "AIDE BLUE CHIP                    4817\n",
       "POLICE OFFICER                    1866\n",
       "LABORER (Hourly)                   597\n",
       "EMT Firefighter Suppression        358\n",
       "CROSSING GUARD                     337\n",
       "                                  ... \n",
       "LEAD SYSTEMS ANALYST SAO             1\n",
       "PERMITS AND RECORDS TECHNICIAN       1\n",
       "NOSOLOGIST                           1\n",
       "EMERGENCY MEDICAL SUPPLY COORD       1\n",
       "SUPT TRAFFIC SIGNS AND MARKING       1\n",
       "Name: JobTitle, Length: 1075, dtype: int64"
      ]
     },
     "execution_count": 24,
     "metadata": {},
     "output_type": "execute_result"
    }
   ],
   "source": [
    "#Finding number of Employees for each Jobrole \n",
    "df['JobTitle'].value_counts()"
   ]
  },
  {
   "cell_type": "code",
   "execution_count": 26,
   "id": "c7ff3a70",
   "metadata": {},
   "outputs": [
    {
     "data": {
      "text/plain": [
       "<AxesSubplot:>"
      ]
     },
     "execution_count": 26,
     "metadata": {},
     "output_type": "execute_result"
    },
    {
     "data": {
      "image/png": "[encoded data removed]",
      "text/plain": [
       "<Figure size 432x288 with 1 Axes>"
      ]
     },
     "metadata": {
      "needs_background": "light"
     },
     "output_type": "display_data"
    }
   ],
   "source": [
    "df['JobTitle'].value_counts().plot(kind='bar')"
   ]
  },
  {
   "cell_type": "code",
   "execution_count": 27,
   "id": "8182b9c9",
   "metadata": {},
   "outputs": [
    {
     "data": {
      "text/plain": [
       "<AxesSubplot:>"
      ]
     },
     "execution_count": 27,
     "metadata": {},
     "output_type": "execute_result"
    },
    {
     "data": {
      "image/png": "[encoded data removed]",
      "text/plain": [
       "<Figure size 432x288 with 1 Axes>"
      ]
     },
     "metadata": {
      "needs_background": "light"
     },
     "output_type": "display_data"
    }
   ],
   "source": [
    "#let us plot for a clearer amount of data\n",
    "df['JobTitle'].value_counts()[0:20].plot(kind='bar')"
   ]
  },
  {
   "cell_type": "markdown",
   "id": "c548332e",
   "metadata": {},
   "source": [
    "We can infer that AIDE BLUE CHIP is the JobTitle which has the highest Annual Salary. \n",
    "The second highest being a Police Officer. "
   ]
  },
  {
   "cell_type": "markdown",
   "id": "48438ef5",
   "metadata": {},
   "source": [
    "### 4. List All the Agency ID and Agency Name"
   ]
  },
  {
   "cell_type": "code",
   "execution_count": 51,
   "id": "2eaf18fe",
   "metadata": {},
   "outputs": [
    {
     "data": {
      "text/plain": [
       "(18981, 2)"
      ]
     },
     "execution_count": 51,
     "metadata": {},
     "output_type": "execute_result"
    }
   ],
   "source": [
    "#List all Agency ID and Agency Name\n",
    "\n",
    "agency_data = df[['AgencyID','Agency']]\n",
    "agency_data.shape"
   ]
  },
  {
   "cell_type": "code",
   "execution_count": 47,
   "id": "b095aeb1",
   "metadata": {},
   "outputs": [
    {
     "name": "stderr",
     "output_type": "stream",
     "text": [
      "<ipython-input-47-0d0e6e0e613f>:1: SettingWithCopyWarning: \n",
      "A value is trying to be set on a copy of a slice from a DataFrame\n",
      "\n",
      "See the caveats in the documentation: https://pandas.pydata.org/pandas-docs/stable/user_guide/indexing.html#returning-a-view-versus-a-copy\n",
      "  agency_data.drop_duplicates(inplace = True)\n"
     ]
    }
   ],
   "source": [
    "agency_data.drop_duplicates(inplace = True)\n",
    "#here we get error as we are trying to change the original dataset"
   ]
  },
  {
   "cell_type": "code",
   "execution_count": 48,
   "id": "06cd2307",
   "metadata": {},
   "outputs": [
    {
     "data": {
      "text/plain": [
       "(1177, 2)"
      ]
     },
     "execution_count": 48,
     "metadata": {},
     "output_type": "execute_result"
    }
   ],
   "source": [
    "agency_data.shape"
   ]
  },
  {
   "cell_type": "markdown",
   "id": "7500368d",
   "metadata": {},
   "source": [
    "We can see that the duplicate values are dropped"
   ]
  },
  {
   "cell_type": "code",
   "execution_count": 52,
   "id": "ee9f765c",
   "metadata": {},
   "outputs": [
    {
     "data": {
      "text/plain": [
       "AgencyID  Agency                 \n",
       "P04001    R&P-Recreation (part-ti    316\n",
       "C90786    TRANS-Crossing Guards      276\n",
       "W02629    Youth Summer               193\n",
       "P04002    R&P-Recreation (part-ti    191\n",
       "A99416    Police Department          166\n",
       "                                    ... \n",
       "W02106    Youth Summer                 1\n",
       "W02107    Youth Summer                 1\n",
       "W02108    Youth Summer                 1\n",
       "W02447    Youth Summer                 1\n",
       "W02526    Youth Summer                 1\n",
       "Length: 1177, dtype: int64"
      ]
     },
     "execution_count": 52,
     "metadata": {},
     "output_type": "execute_result"
    }
   ],
   "source": [
    "#we can also view the same result using the line of code below.\n",
    "agency_data.value_counts()"
   ]
  },
  {
   "cell_type": "markdown",
   "id": "9d6a2b67",
   "metadata": {},
   "source": [
    "### 5. Find all the missing Gross data in the dataset"
   ]
  },
  {
   "cell_type": "code",
   "execution_count": 35,
   "id": "36befb8d",
   "metadata": {},
   "outputs": [],
   "source": [
    "#counting Nan Values in Grosspay\n",
    "\n",
    "Nan_entry = df['GrossPay'].isnull().sum()"
   ]
  },
  {
   "cell_type": "code",
   "execution_count": 36,
   "id": "92be0f4a",
   "metadata": {},
   "outputs": [
    {
     "data": {
      "text/plain": [
       "3223"
      ]
     },
     "execution_count": 36,
     "metadata": {},
     "output_type": "execute_result"
    }
   ],
   "source": [
    "Nan_entry"
   ]
  },
  {
   "cell_type": "markdown",
   "id": "a36f713b",
   "metadata": {},
   "source": [
    "There are 3223 NAN values. in the grosspay column."
   ]
  }
 ],
 "metadata": {
  "kernelspec": {
   "display_name": "Python 3",
   "language": "python",
   "name": "python3"
  },
  "language_info": {
   "codemirror_mode": {
    "name": "ipython",
    "version": 3
   },
   "file_extension": ".py",
   "mimetype": "text/x-python",
   "name": "python",
   "nbconvert_exporter": "python",
   "pygments_lexer": "ipython3",
   "version": "3.8.8"
  }
 },
 "nbformat": 4,
 "nbformat_minor": 5
}
